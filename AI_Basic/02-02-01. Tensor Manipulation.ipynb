{
 "cells": [
  {
   "cell_type": "markdown",
   "id": "98caf0e4",
   "metadata": {},
   "source": [
    "# 텐서 조작하기(Tensor Manipulation) 1\n",
    "## 넘파이로 텐서 만들기(벡터와 행렬 만들기)"
   ]
  },
  {
   "cell_type": "markdown",
   "id": "bc51ae9a",
   "metadata": {},
   "source": [
    "### 1) 1D with Numpy"
   ]
  },
  {
   "cell_type": "code",
   "execution_count": 1,
   "id": "5f90c5a1",
   "metadata": {},
   "outputs": [],
   "source": [
    "import numpy as np"
   ]
  },
  {
   "cell_type": "code",
   "execution_count": 2,
   "id": "6ef3ffe5",
   "metadata": {},
   "outputs": [
    {
     "name": "stdout",
     "output_type": "stream",
     "text": [
      "[0. 1. 2. 3. 4. 5. 6.]\n"
     ]
    }
   ],
   "source": [
    "t = np.array([0., 1., 2., 3., 4., 5., 6.])\n",
    "# 파이썬으로 설명하면 List를 생성해서 np.array로 1차원 array로 변환함\n",
    "print(t)"
   ]
  },
  {
   "cell_type": "code",
   "execution_count": 3,
   "id": "8809a536",
   "metadata": {},
   "outputs": [
    {
     "name": "stdout",
     "output_type": "stream",
     "text": [
      "Rank of t;  1\n",
      "Shape of t:  (7,)\n"
     ]
    }
   ],
   "source": [
    "print('Rank of t; ', t.ndim)\n",
    "print('Shape of t: ', t.shape)"
   ]
  },
  {
   "cell_type": "markdown",
   "id": "889fa0cd",
   "metadata": {},
   "source": [
    "### 1-1) Numpy 기초 이해하기"
   ]
  },
  {
   "cell_type": "code",
   "execution_count": 4,
   "id": "b55fca86",
   "metadata": {},
   "outputs": [
    {
     "name": "stdout",
     "output_type": "stream",
     "text": [
      "t[0] t[1] t[-1] =  0.0 1.0 6.0\n"
     ]
    }
   ],
   "source": [
    "print('t[0] t[1] t[-1] = ', t[0], t[1], t[-1]) #인덱스를 통한 원소 접근"
   ]
  },
  {
   "cell_type": "code",
   "execution_count": 5,
   "id": "8678ff55",
   "metadata": {},
   "outputs": [
    {
     "name": "stdout",
     "output_type": "stream",
     "text": [
      "t[2:5] t[4:-1] =  [2. 3. 4.] [4. 5.]\n"
     ]
    }
   ],
   "source": [
    "print('t[2:5] t[4:-1] = ', t[2:5], t[4:-1]) # [시작 번호 : 끝 번호]로 범위 지정을 \n",
    "#통해 가져온다."
   ]
  },
  {
   "cell_type": "code",
   "execution_count": 6,
   "id": "f7dda23b",
   "metadata": {},
   "outputs": [
    {
     "name": "stdout",
     "output_type": "stream",
     "text": [
      "t[:2] t[3:] =  [0. 1.] [3. 4. 5. 6.]\n"
     ]
    }
   ],
   "source": [
    "print('t[:2] t[3:] = ', t[:2], t[3:]) # 시작번호를 생략한 경우와 끝 번호를 생략한 경우"
   ]
  },
  {
   "cell_type": "markdown",
   "id": "4e75dd67",
   "metadata": {},
   "source": [
    "### 2) 2D with Numpy"
   ]
  },
  {
   "cell_type": "code",
   "execution_count": 7,
   "id": "972be6fd",
   "metadata": {},
   "outputs": [
    {
     "name": "stdout",
     "output_type": "stream",
     "text": [
      "[[ 1.  2.  3.]\n",
      " [ 4.  5.  6.]\n",
      " [ 7.  8.  9.]\n",
      " [10. 11. 12.]]\n"
     ]
    }
   ],
   "source": [
    "t = np.array([[1., 2., 3.], [4., 5., 6.], [7., 8., 9. ], [10., 11., 12.]])\n",
    "print(t)"
   ]
  },
  {
   "cell_type": "code",
   "execution_count": 8,
   "id": "7ffcf0e7",
   "metadata": {},
   "outputs": [
    {
     "name": "stdout",
     "output_type": "stream",
     "text": [
      "Rank of t:  2\n",
      "Shape of t:  (4, 3)\n"
     ]
    }
   ],
   "source": [
    "print('Rank of t: ', t.ndim)\n",
    "print('Shape of t: ', t.shape)"
   ]
  },
  {
   "cell_type": "markdown",
   "id": "5714d59f",
   "metadata": {},
   "source": [
    "## 파이토치 텐서 선언하기(PyTorch Tensor Allocation)"
   ]
  },
  {
   "cell_type": "code",
   "execution_count": null,
   "id": "d7e8384b",
   "metadata": {},
   "outputs": [],
   "source": []
  }
 ],
 "metadata": {
  "kernelspec": {
   "display_name": "Python 3",
   "language": "python",
   "name": "python3"
  },
  "language_info": {
   "codemirror_mode": {
    "name": "ipython",
    "version": 3
   },
   "file_extension": ".py",
   "mimetype": "text/x-python",
   "name": "python",
   "nbconvert_exporter": "python",
   "pygments_lexer": "ipython3",
   "version": "3.8.11"
  }
 },
 "nbformat": 4,
 "nbformat_minor": 5
}
