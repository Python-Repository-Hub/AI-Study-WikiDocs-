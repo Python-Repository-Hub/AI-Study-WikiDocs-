{
 "cells": [
  {
   "cell_type": "markdown",
   "id": "5a55e1cf",
   "metadata": {},
   "source": [
    "# Basic code of Pandas\n",
    "  \n",
    "  ### 1) 시리즈(Series)"
   ]
  },
  {
   "cell_type": "code",
   "execution_count": 1,
   "id": "fb4c530e",
   "metadata": {},
   "outputs": [],
   "source": [
    "import pandas as pd"
   ]
  },
  {
   "cell_type": "code",
   "execution_count": 2,
   "id": "afb6efbe",
   "metadata": {},
   "outputs": [
    {
     "name": "stdout",
     "output_type": "stream",
     "text": [
      "피자    17000\n",
      "치킨    18000\n",
      "콜라     1000\n",
      "맥주     5000\n",
      "dtype: int64\n"
     ]
    }
   ],
   "source": [
    "sr = pd.Series([17000, 18000, 1000, 5000],\n",
    "              index = [\"피자\", \"치킨\", \"콜라\", \"맥주\"])\n",
    "print(sr)"
   ]
  },
  {
   "cell_type": "markdown",
   "id": "8faec1af",
   "metadata": {},
   "source": [
    "#### Series에서 S는 대문자를 사용해야함"
   ]
  },
  {
   "cell_type": "code",
   "execution_count": 3,
   "id": "f489f134",
   "metadata": {},
   "outputs": [
    {
     "name": "stdout",
     "output_type": "stream",
     "text": [
      "[17000 18000  1000  5000]\n"
     ]
    }
   ],
   "source": [
    "print(sr.values)"
   ]
  },
  {
   "cell_type": "code",
   "execution_count": 4,
   "id": "9f05d123",
   "metadata": {},
   "outputs": [
    {
     "name": "stdout",
     "output_type": "stream",
     "text": [
      "Index(['피자', '치킨', '콜라', '맥주'], dtype='object')\n"
     ]
    }
   ],
   "source": [
    "print(sr.index)"
   ]
  },
  {
   "cell_type": "markdown",
   "id": "32e4c930",
   "metadata": {},
   "source": [
    "### 2) 데이터프레임(DataFrame)"
   ]
  },
  {
   "cell_type": "code",
   "execution_count": 5,
   "id": "71ab4f42",
   "metadata": {},
   "outputs": [
    {
     "name": "stdout",
     "output_type": "stream",
     "text": [
      "       A  B  C\n",
      "one    1  2  3\n",
      "two    4  5  6\n",
      "three  7  8  9\n"
     ]
    }
   ],
   "source": [
    "values = [[1, 2, 3], [4, 5, 6], [7, 8, 9]]\n",
    "index = ['one', 'two', 'three']\n",
    "columns = ['A', 'B', 'C']\n",
    "\n",
    "df = pd.DataFrame(values, index, columns)\n",
    "print(df)"
   ]
  },
  {
   "cell_type": "markdown",
   "id": "092f6e9a",
   "metadata": {},
   "source": [
    "#### DataFrame도 마찬가지로 대/소문자 구별을 해야함"
   ]
  },
  {
   "cell_type": "code",
   "execution_count": 6,
   "id": "a701a67e",
   "metadata": {},
   "outputs": [
    {
     "name": "stdout",
     "output_type": "stream",
     "text": [
      "Index(['one', 'two', 'three'], dtype='object')\n"
     ]
    }
   ],
   "source": [
    "print(df.index)"
   ]
  },
  {
   "cell_type": "code",
   "execution_count": 7,
   "id": "4fe39ad4",
   "metadata": {},
   "outputs": [
    {
     "name": "stdout",
     "output_type": "stream",
     "text": [
      "Index(['A', 'B', 'C'], dtype='object')\n"
     ]
    }
   ],
   "source": [
    "print(df.columns)"
   ]
  },
  {
   "cell_type": "code",
   "execution_count": 8,
   "id": "8027372e",
   "metadata": {},
   "outputs": [
    {
     "name": "stdout",
     "output_type": "stream",
     "text": [
      "[[1 2 3]\n",
      " [4 5 6]\n",
      " [7 8 9]]\n"
     ]
    }
   ],
   "source": [
    "print(df.values)"
   ]
  },
  {
   "cell_type": "markdown",
   "id": "027c6a3c",
   "metadata": {},
   "source": [
    "### 3) 데이터프레임의 생성"
   ]
  },
  {
   "cell_type": "code",
   "execution_count": 9,
   "id": "4323e52e",
   "metadata": {},
   "outputs": [
    {
     "name": "stdout",
     "output_type": "stream",
     "text": [
      "      0         1      2\n",
      "0  1000     Steve  90.72\n",
      "1  1001     James  78.09\n",
      "2  1002    Doyeon  98.43\n",
      "3  1003      Jane  64.19\n",
      "4  1004  Pilwoong  81.30\n",
      "5  1005      Tony  99.14\n"
     ]
    }
   ],
   "source": [
    "# 리스트로 생성하기\n",
    "data = [\n",
    "    ['1000', 'Steve', 90.72], \n",
    "    ['1001', 'James', 78.09], \n",
    "    ['1002', 'Doyeon', 98.43], \n",
    "    ['1003', 'Jane', 64.19], \n",
    "    ['1004', 'Pilwoong', 81.30],\n",
    "    ['1005', 'Tony', 99.14],\n",
    "]\n",
    "df = pd.DataFrame(data)\n",
    "print(df)"
   ]
  },
  {
   "cell_type": "code",
   "execution_count": 10,
   "id": "0e67b204",
   "metadata": {},
   "outputs": [
    {
     "name": "stdout",
     "output_type": "stream",
     "text": [
      "     학번        이름     점수\n",
      "0  1000     Steve  90.72\n",
      "1  1001     James  78.09\n",
      "2  1002    Doyeon  98.43\n",
      "3  1003      Jane  64.19\n",
      "4  1004  Pilwoong  81.30\n",
      "5  1005      Tony  99.14\n"
     ]
    }
   ],
   "source": [
    "# 딕셔너리로 생성하기\n",
    "data = { '학번' : ['1000', '1001', '1002', '1003', '1004', '1005'],\n",
    "'이름' : [ 'Steve', 'James', 'Doyeon', 'Jane', 'Pilwoong', 'Tony'],\n",
    "         '점수': [90.72, 78.09, 98.43, 64.19, 81.30, 99.14]}\n",
    "\n",
    "df = pd.DataFrame(data)\n",
    "print(df)"
   ]
  },
  {
   "cell_type": "markdown",
   "id": "57c14adb",
   "metadata": {},
   "source": [
    "### 4) 데이터프레임 조회하기"
   ]
  },
  {
   "cell_type": "code",
   "execution_count": 11,
   "id": "69c9883a",
   "metadata": {},
   "outputs": [
    {
     "name": "stdout",
     "output_type": "stream",
     "text": [
      "     학번      이름     점수\n",
      "0  1000   Steve  90.72\n",
      "1  1001   James  78.09\n",
      "2  1002  Doyeon  98.43\n"
     ]
    }
   ],
   "source": [
    "print(df.head(3)) # 앞 부분 3개만 보기"
   ]
  },
  {
   "cell_type": "code",
   "execution_count": 12,
   "id": "6ce17101",
   "metadata": {},
   "outputs": [
    {
     "name": "stdout",
     "output_type": "stream",
     "text": [
      "     학번        이름     점수\n",
      "3  1003      Jane  64.19\n",
      "4  1004  Pilwoong  81.30\n",
      "5  1005      Tony  99.14\n"
     ]
    }
   ],
   "source": [
    "print(df.tail(3)) # 뒷 부분 3개만 보기"
   ]
  },
  {
   "cell_type": "code",
   "execution_count": 13,
   "id": "26cd3da0",
   "metadata": {},
   "outputs": [
    {
     "name": "stdout",
     "output_type": "stream",
     "text": [
      "0       Steve\n",
      "1       James\n",
      "2      Doyeon\n",
      "3        Jane\n",
      "4    Pilwoong\n",
      "5        Tony\n",
      "Name: 이름, dtype: object\n"
     ]
    }
   ],
   "source": [
    "print(df['이름']) # '학번에 해당되는 열을 보기'"
   ]
  },
  {
   "cell_type": "markdown",
   "id": "9ec9617f",
   "metadata": {},
   "source": [
    "### 5) 외부 데이터 읽기"
   ]
  },
  {
   "cell_type": "code",
   "execution_count": 14,
   "id": "f1b69b2b",
   "metadata": {},
   "outputs": [
    {
     "name": "stdout",
     "output_type": "stream",
     "text": [
      "   student id      name  age\n",
      "0           1     Steve   17\n",
      "1           2     James   26\n",
      "2           3    Doyeon   25\n",
      "3           4      Jane   23\n",
      "4           5  Pilwoong   27\n",
      "5           6      Tony   24\n"
     ]
    }
   ],
   "source": [
    "df = pd.read_csv('01. example.csv') # 01. example 파일읽기\n",
    "print(df)"
   ]
  },
  {
   "cell_type": "code",
   "execution_count": 15,
   "id": "0fff9a23",
   "metadata": {},
   "outputs": [
    {
     "name": "stdout",
     "output_type": "stream",
     "text": [
      "RangeIndex(start=0, stop=6, step=1)\n"
     ]
    }
   ],
   "source": [
    "print(df.index)"
   ]
  },
  {
   "cell_type": "code",
   "execution_count": null,
   "id": "70698221",
   "metadata": {},
   "outputs": [],
   "source": []
  }
 ],
 "metadata": {
  "kernelspec": {
   "display_name": "Python 3",
   "language": "python",
   "name": "python3"
  },
  "language_info": {
   "codemirror_mode": {
    "name": "ipython",
    "version": 3
   },
   "file_extension": ".py",
   "mimetype": "text/x-python",
   "name": "python",
   "nbconvert_exporter": "python",
   "pygments_lexer": "ipython3",
   "version": "3.8.11"
  }
 },
 "nbformat": 4,
 "nbformat_minor": 5
}
